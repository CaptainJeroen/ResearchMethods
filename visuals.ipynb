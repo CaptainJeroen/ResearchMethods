{
 "cells": [
  {
   "cell_type": "code",
   "execution_count": 1,
   "id": "ae36235d",
   "metadata": {},
   "outputs": [],
   "source": [
    "import pandas as pd, plotly.express as px, numpy as np, os, plotly.graph_objects as go, plotly.figure_factory as ff\n",
    "from plotly.subplots import make_subplots\n",
    "\n",
    "#pip install pandas plotly.express numpy \n",
    "\n",
    "# if not os.path.exists(\"images\"):    os.mkdir(\"images\")\n"
   ]
  },
  {
   "cell_type": "code",
   "execution_count": null,
   "id": "cc82f7ab",
   "metadata": {},
   "outputs": [],
   "source": []
  },
  {
   "cell_type": "code",
   "execution_count": 3,
   "id": "1a269c66",
   "metadata": {},
   "outputs": [],
   "source": [
    "sim = \"sim1fr1.txt\"\n",
    "\n",
    "with open(\"degoedesims/\" + sim, \"r\") as f:\n",
    "    cont = f.readlines()\n",
    "\n",
    "\n",
    "def getIndex(arr):\n",
    "    ii = []\n",
    "    for i in range(len(cont)):\n",
    "        if('*' in cont[i]):\n",
    "            ii.append(i)\n",
    "    return ii\n",
    "\n",
    "ii = getIndex(cont)\n",
    "cil = []\n",
    "\n",
    "for i in range(7, ii[0] - 1):\n",
    "    cil.append(list(map(int, cont[i].split(' '))))\n",
    "\n",
    "carsInLane = pd.DataFrame(cil, columns = ['North Straight', 'North Left', 'East Straight', 'East Left', 'South Straight', 'South Left', 'West Straight', 'West Left'])\n",
    "\n",
    "freqGone = []\n",
    "\n",
    "for i in range(ii[0] + 2, ii[1]):\n",
    "    freqGone.append(int(cont[i]))\n",
    "\n",
    "waitingTimeCarsGone = pd.DataFrame(freqGone, columns = ['Amount of Cars'])\n",
    "\n",
    "freqLeft = []\n",
    "\n",
    "for i in range(ii[1] + 2, len(cont)):\n",
    "    freqLeft.append(int(cont[i]))\n",
    "\n",
    "waitingTimeCarsLeft = pd.DataFrame(freqLeft, columns = ['Amount of Cars'])\n"
   ]
  },
  {
   "cell_type": "code",
   "execution_count": 16,
   "id": "c99276f5",
   "metadata": {},
   "outputs": [],
   "source": [
    "#line chart waiting cars each cycle\n",
    "fig = px.line(carsInLane, y = ['North Straight', 'North Left', 'East Straight', 'East Left', 'South Straight', 'South Left', 'West Straight', 'West Left'], \n",
    "    title='Waiting cars in each lane for each cycle')\n",
    "\n",
    "fig.update_layout( xaxis_title = 'Cycles', yaxis_title = 'Waiting cars')\n",
    "fig.show(renderer = \"browser\")\n",
    "#fig.write_image(\"images/waitingCars\" + sim + \".svg\")\n",
    "\n"
   ]
  },
  {
   "cell_type": "code",
   "execution_count": null,
   "id": "fdf4a75c",
   "metadata": {},
   "outputs": [],
   "source": [
    "#histogram of waittime cars that went through\n",
    "hist = px.histogram(waitingTimeCarsGone, x = waitingTimeCarsGone.index, y = 'Amount of Cars', nbins=len(waitingTimeCarsGone),\n",
    "    title = 'Waittime of cars that are through the intersection')\n",
    "\n",
    "hist.update_layout(xaxis_title = 'Waittime of cars, in cycles', yaxis_title = 'Amount of cars')\n",
    "hist.show(renderer = \"browser\")"
   ]
  },
  {
   "cell_type": "code",
   "execution_count": null,
   "id": "2b43e937",
   "metadata": {},
   "outputs": [],
   "source": [
    "#histogram of waittime cars that are still waiting\n",
    "hist1 = px.histogram(waitingTimeCarsLeft, x = waitingTimeCarsLeft.index, y = 'Amount of Cars', nbins=len(waitingTimeCarsLeft),\n",
    "    title = 'Waittime of cars that are still waiting in the end')\n",
    "\n",
    "hist1.update_layout(xaxis_title = 'Waittime of cars, in cycles', yaxis_title = 'Amount of cars')\n",
    "hist1.show(renderer = \"browser\")\n"
   ]
  },
  {
   "cell_type": "code",
   "execution_count": 9,
   "id": "2a5d3856",
   "metadata": {},
   "outputs": [],
   "source": [
    "#Data of cars that went through intersection\n",
    "\n",
    "dir = 'simronde2'\n",
    "spefSim = 'sim9fr'\n",
    "\n",
    "wtCarsGoneAllFr = dict()\n",
    "\n",
    "for file in os.listdir(dir):\n",
    "    if(spefSim in file):\n",
    "        with open(os.path.join(dir,file), \"r\") as f:\n",
    "            con = f.readlines()\n",
    "        indices = []\n",
    "        for i in range(len(con)):\n",
    "            if('*' in con[i]):\n",
    "                indices.append(i)\n",
    "        l = list(range(indices[0] + 2, indices[1]))\n",
    "        wtCarsGoneAllFr[file[:-4]] = [int(con[u][:-1]) for u in l]\n",
    "\n",
    "keys = list(wtCarsGoneAllFr)\n",
    "lengths = pd.DataFrame({'length' : [], 'simu' : []})\n",
    "\n",
    "for i in range(len(wtCarsGoneAllFr)-1):\n",
    "    lengths.loc[i] = [len(wtCarsGoneAllFr[keys[i]]), keys[i]]\n",
    "\n",
    "maxi = max(lengths['length'])\n",
    "\n",
    "for key in wtCarsGoneAllFr:\n",
    "    wtCarsGoneAllFr[key] = wtCarsGoneAllFr[key] + ([0]*(maxi-len(wtCarsGoneAllFr[key])))\n",
    "\n",
    "wtAllFrDataframe = pd.DataFrame(data = wtCarsGoneAllFr)\n"
   ]
  },
  {
   "cell_type": "code",
   "execution_count": 10,
   "id": "ff15d06b",
   "metadata": {},
   "outputs": [],
   "source": [
    "hist = px.histogram(wtAllFrDataframe, barmode='overlay', x = wtAllFrDataframe.index, y = wtAllFrDataframe.columns,\n",
    "    nbins = len(wtAllFrDataframe), title = 'Waittime of cars that are through the intersection')\n",
    "\n",
    "hist.update_layout(xaxis_title = 'Waittime of cars, in cycles', yaxis_title = 'Amount of cars')\n",
    "hist.show(renderer = \"browser\")"
   ]
  },
  {
   "cell_type": "code",
   "execution_count": 6,
   "id": "54e351ac",
   "metadata": {},
   "outputs": [
    {
     "ename": "NameError",
     "evalue": "name 'wtAllFrDataframe' is not defined",
     "output_type": "error",
     "traceback": [
      "\u001b[1;31m---------------------------------------------------------------------------\u001b[0m",
      "\u001b[1;31mNameError\u001b[0m                                 Traceback (most recent call last)",
      "Cell \u001b[1;32mIn [6], line 1\u001b[0m\n\u001b[1;32m----> 1\u001b[0m hist \u001b[39m=\u001b[39m px\u001b[39m.\u001b[39mhistogram(wtAllFrDataframe, barmode\u001b[39m=\u001b[39m\u001b[39m'\u001b[39m\u001b[39mgroup\u001b[39m\u001b[39m'\u001b[39m, x \u001b[39m=\u001b[39m wtAllFrDataframe\u001b[39m.\u001b[39mindex, y \u001b[39m=\u001b[39m [\u001b[39m'\u001b[39m\u001b[39msim2fr1\u001b[39m\u001b[39m'\u001b[39m, \u001b[39m'\u001b[39m\u001b[39msim2fr10\u001b[39m\u001b[39m'\u001b[39m, \u001b[39m'\u001b[39m\u001b[39msim2fr100\u001b[39m\u001b[39m'\u001b[39m],\n\u001b[0;32m      2\u001b[0m     nbins \u001b[39m=\u001b[39m \u001b[39mlen\u001b[39m(wtAllFrDataframe), title \u001b[39m=\u001b[39m \u001b[39m'\u001b[39m\u001b[39mWaittime of cars that are through the intersection\u001b[39m\u001b[39m'\u001b[39m)\n\u001b[0;32m      4\u001b[0m hist\u001b[39m.\u001b[39mupdate_layout(xaxis_title \u001b[39m=\u001b[39m \u001b[39m'\u001b[39m\u001b[39mWaittime of cars, in cycles\u001b[39m\u001b[39m'\u001b[39m, yaxis_title \u001b[39m=\u001b[39m \u001b[39m'\u001b[39m\u001b[39mAmount of cars\u001b[39m\u001b[39m'\u001b[39m)\n\u001b[0;32m      5\u001b[0m hist\u001b[39m.\u001b[39mshow(renderer \u001b[39m=\u001b[39m \u001b[39m\"\u001b[39m\u001b[39mbrowser\u001b[39m\u001b[39m\"\u001b[39m)\n",
      "\u001b[1;31mNameError\u001b[0m: name 'wtAllFrDataframe' is not defined"
     ]
    }
   ],
   "source": [
    "hist = px.histogram(wtAllFrDataframe, barmode='group', x = wtAllFrDataframe.index, y = ['sim2fr1', 'sim2fr10', 'sim2fr100'],\n",
    "    nbins = len(wtAllFrDataframe), title = 'Waittime of cars that are through the intersection')\n",
    "\n",
    "hist.update_layout(xaxis_title = 'Waittime of cars, in cycles', yaxis_title = 'Amount of cars')\n",
    "hist.show(renderer = \"browser\")"
   ]
  },
  {
   "cell_type": "code",
   "execution_count": 4,
   "id": "d80b1b4d",
   "metadata": {},
   "outputs": [],
   "source": [
    "#Data of all the cars left at end of sim\n",
    "\n",
    "dir = 'simronde2'\n",
    "spefSim = 'sim9fr'\n",
    "\n",
    "AllfrCarsLeft = dict()\n",
    "\n",
    "for file in os.listdir(dir):\n",
    "    if(spefSim in file):\n",
    "        with open(os.path.join(dir,file), \"r\") as f:\n",
    "            con = f.readlines()\n",
    "        indices = []\n",
    "        for i in range(len(con)):\n",
    "            if('*' in con[i]):\n",
    "                indices.append(i)\n",
    "        l = list(range(indices[1] + 2, len(con)))\n",
    "        AllfrCarsLeft[file[:-4]] = [int(con[u][:-1]) for u in l]\n",
    "\n",
    "keys = list(AllfrCarsLeft)\n",
    "lengths = pd.DataFrame({'length' : [], 'simu' : []})\n",
    "\n",
    "for i in range(len(AllfrCarsLeft)-1):\n",
    "    lengths.loc[i] = [len(AllfrCarsLeft[keys[i]]), keys[i]]\n",
    "\n",
    "maxi = max(lengths['length'])\n",
    "\n",
    "for key in AllfrCarsLeft:\n",
    "    AllfrCarsLeft[key] = AllfrCarsLeft[key] + ([0]*(maxi-len(AllfrCarsLeft[key])))\n",
    "\n",
    "AllfrCarsLeft = pd.DataFrame(data = AllfrCarsLeft)\n"
   ]
  },
  {
   "cell_type": "code",
   "execution_count": 5,
   "id": "c19bcc7f",
   "metadata": {},
   "outputs": [
    {
     "ename": "NameError",
     "evalue": "name 'wtAllFrDataframe' is not defined",
     "output_type": "error",
     "traceback": [
      "\u001b[1;31m---------------------------------------------------------------------------\u001b[0m",
      "\u001b[1;31mNameError\u001b[0m                                 Traceback (most recent call last)",
      "Cell \u001b[1;32mIn [5], line 1\u001b[0m\n\u001b[1;32m----> 1\u001b[0m hist \u001b[39m=\u001b[39m px\u001b[39m.\u001b[39mhistogram(AllfrCarsLeft, barmode\u001b[39m=\u001b[39m\u001b[39m'\u001b[39m\u001b[39moverlay\u001b[39m\u001b[39m'\u001b[39m, x \u001b[39m=\u001b[39m wtAllFrDataframe\u001b[39m.\u001b[39mindex, y \u001b[39m=\u001b[39m wtAllFrDataframe\u001b[39m.\u001b[39mcolumns,\n\u001b[0;32m      2\u001b[0m     nbins \u001b[39m=\u001b[39m \u001b[39mlen\u001b[39m(wtAllFrDataframe), title \u001b[39m=\u001b[39m \u001b[39m'\u001b[39m\u001b[39mWaittime of cars that are still in the intersection\u001b[39m\u001b[39m'\u001b[39m)\n\u001b[0;32m      4\u001b[0m hist\u001b[39m.\u001b[39mupdate_layout(xaxis_title \u001b[39m=\u001b[39m \u001b[39m'\u001b[39m\u001b[39mWaittime of cars, in cycles\u001b[39m\u001b[39m'\u001b[39m, yaxis_title \u001b[39m=\u001b[39m \u001b[39m'\u001b[39m\u001b[39mAmount of cars\u001b[39m\u001b[39m'\u001b[39m)\n\u001b[0;32m      5\u001b[0m hist\u001b[39m.\u001b[39mshow(renderer \u001b[39m=\u001b[39m \u001b[39m\"\u001b[39m\u001b[39mbrowser\u001b[39m\u001b[39m\"\u001b[39m)\n",
      "\u001b[1;31mNameError\u001b[0m: name 'wtAllFrDataframe' is not defined"
     ]
    }
   ],
   "source": [
    "hist = px.histogram(AllfrCarsLeft, barmode='overlay', x = wtAllFrDataframe.index, y = wtAllFrDataframe.columns,\n",
    "    nbins = len(wtAllFrDataframe), title = 'Waittime of cars that are still in the intersection')\n",
    "\n",
    "hist.update_layout(xaxis_title = 'Waittime of cars, in cycles', yaxis_title = 'Amount of cars')\n",
    "hist.show(renderer = \"browser\")"
   ]
  },
  {
   "cell_type": "code",
   "execution_count": 7,
   "id": "fad4f77e",
   "metadata": {},
   "outputs": [
    {
     "name": "stdout",
     "output_type": "stream",
     "text": [
      "    Allowed_Wait_Cycles       sim1      sim2      sim3       sim4\n",
      "0                     1  27247.350  26343.02  33375.37  32296.700\n",
      "1                     2  25388.680  26337.02  33375.37  29964.710\n",
      "2                     3  25388.680  25404.02  32879.70  29974.040\n",
      "3                     4  15192.000  23788.33  31859.33  27024.010\n",
      "4                     5   7163.334  22388.01  31445.34  18978.670\n",
      "5                     6   5880.003  19913.99  30428.68   9634.696\n",
      "6                     7   5333.333  18192.66  30015.35   5648.671\n",
      "7                     8   4809.333  16391.66  29245.34   5518.670\n",
      "8                     9   4745.332  15002.67  28824.01   4882.335\n",
      "9                    10   4738.665  13986.32  28574.00   4776.333\n",
      "10                   11   4731.332  10629.00  25626.00   4658.665\n"
     ]
    }
   ],
   "source": [
    "d = {'Allowed_Wait_Cycles': [1,2,3,4,5,6,7,8,9,10,11], \n",
    "'sim1': [27247.35, 25388.68, 25388.68, 15192, 7163.334, 5880.003, 5333.333, 4809.333, 4745.332 ,4738.665, 4731.332],\n",
    "'sim2': [26343.02, 26337.02, 25404.02, 23788.33, 22388.01, 19913.99, 18192.66, 16391.66, 15002.67, 13986.32, 10629],\n",
    "'sim3': [33375.37, 33375.37, 32879.7, 31859.33, 31445.34, 30428.68, 30015.35, 29245.34, 28824.01, 28574, 25626],\n",
    "'sim4': [32296.7, 29964.71, 29974.04, 27024.01, 18978.67, 9634.696, 5648.671, 5518.67, 4882.335, 4776.333, 4658.665]}\n",
    "waitingTime = pd.DataFrame(data = d)\n",
    "print(waitingTime)"
   ]
  },
  {
   "cell_type": "code",
   "execution_count": 5,
   "id": "2dfd462a",
   "metadata": {},
   "outputs": [
    {
     "name": "stdout",
     "output_type": "stream",
     "text": [
      "    Allowed_Wait_Cycles  sim1  sim2  sim3  sim4\n",
      "0                     1  1750  1753  1626  1362\n",
      "1                     2  1744  1751  1626  1356\n",
      "2                     3  1744  1748  1627  1372\n",
      "3                     4  2186  1897  1702  1808\n",
      "4                     5  2382  2012  1756  2112\n",
      "5                     6  2382  2078  1790  2292\n",
      "6                     7  2394  2130  1818  2382\n",
      "7                     8  2394  2167  1836  2364\n",
      "8                     9  2394  2192  1852  2394\n",
      "9                    10  2394  2223  1866  2385\n",
      "10                   11  2394  2287  1902  2389\n"
     ]
    }
   ],
   "source": [
    "e = {'Allowed_Wait_Cycles': [1,2,3,4,5,6,7,8,9,10,11], \n",
    "'sim1': [1750,1744,1744,2186,2382,2382,2394,2394,2394,2394,2394],\n",
    "'sim2': [1753,1751,1748,1897,2012,2078,2130,2167,2192,2223,2287],\n",
    "'sim3': [1626,1626,1627,1702,1756,1790,1818,1836,1852,1866,1902],\n",
    "'sim4': [1362,1356,1372,1808,2112,2292,2382,2364,2394,2385,2389]}\n",
    "throughput = pd.DataFrame(data = e)\n",
    "print(throughput)"
   ]
  },
  {
   "cell_type": "code",
   "execution_count": 9,
   "id": "0d4ff8d7",
   "metadata": {},
   "outputs": [],
   "source": [
    "figW = px.line(waitingTime, x = 'Allowed_Wait_Cycles', y = ['sim1', 'sim2', 'sim3', 'sim4'], \n",
    "    title='Total Waiting Time vs Max Allowed Wait Cycles')\n",
    "\n",
    "figW.update_layout( yaxis_title = 'Total Waiting Time', xaxis_title = 'Max Allowed Wait Cycles On Red')\n",
    "figW.show(renderer = \"browser\")\n",
    "\n",
    "figT = px.line(throughput, x = 'Allowed_Wait_Cycles', y = ['sim1', 'sim2', 'sim3', 'sim4'], \n",
    "    title='Throughput vs. Maximum cycles red')\n",
    "\n",
    "figT.update_layout( yaxis_title = 'Throughput', xaxis_title = 'Maximum cycles red')\n",
    "figT.show(renderer = \"browser\")"
   ]
  },
  {
   "cell_type": "code",
   "execution_count": 5,
   "id": "1a834bce",
   "metadata": {},
   "outputs": [],
   "source": [
    "#Data of all the cars left at end of sim\n",
    "\n",
    "sims = list(range(1,31))\n",
    "dir = 'simronde2'\n",
    "\n",
    "for s in sims:\n",
    "    waittimes = [0] * 101\n",
    "    throughputs = [0] * 101\n",
    "    scores = [0] * 101\n",
    "    spefSim = 'sim' + str(s) + \"fr\"\n",
    "    for file in os.listdir(dir):\n",
    "        if(spefSim in file):\n",
    "            with open(os.path.join(dir,file), \"r\") as f:\n",
    "                con = f.readlines()\n",
    "            \n",
    "            simu = file.replace(\"sim\" + str(s) + \"fr\", \"\")[:-4]\n",
    "            waittimes[int(simu)] = float(con[5]) + float(con[6])\n",
    "            throughputs[int(simu)] = float(con[4])\n",
    "            scores[int(simu)] = float(con[9])\n",
    "\n",
    "    waittimes = list(filter(lambda i: i > 0, waittimes))\n",
    "    throughputs = filter(lambda i: i > 0, throughputs)\n",
    "    scores = list(filter(lambda i: i != 0, scores))\n",
    "    mini = scores.index(min(scores))\n",
    "    mini_anno = [{\"x\":mini + 1, \"y\":min(scores),\n",
    "                        'xref': 'x2',\n",
    "                        'yref': 'y3',\n",
    "                        \"text\": \"Lowest score\",\n",
    "                        \"textangle\": 0,\n",
    "                        \"arrowhead\": 3,\n",
    "                        \"showarrow\":True,\n",
    "                        \"bgcolor\":None,\n",
    "                        \"font\": {\"size\": 15}}]\n",
    "\n",
    "    waitAndThrough = pd.DataFrame({'Allowed_Wait_Cycles': [1,2,3,4,5,6,7,8,9,10,11], 'Waiting_time': waittimes, 'Throughput': throughputs, 'Scores': scores})\n",
    "    wo4orLower = waitAndThrough.loc[waitAndThrough['Allowed_Wait_Cycles'] > 3]\n",
    "\n",
    "    fug = make_subplots(rows=2, cols=1, row_heights = [0.7, 0.3], specs=[[{\"secondary_y\": True}], [{\"secondary_y\": False}]])\n",
    "    fug.add_trace(go.Scatter(\n",
    "        x = waitAndThrough['Allowed_Wait_Cycles'],\n",
    "        y = waitAndThrough['Waiting_time'],\n",
    "        name = 'Waiting time'\n",
    "    ), secondary_y=False, row = 1, col = 1)\n",
    "    fug.add_trace(go.Scatter(\n",
    "        x = waitAndThrough['Allowed_Wait_Cycles'],\n",
    "        y = waitAndThrough['Throughput'],\n",
    "        name = 'Throughput'\n",
    "    ), secondary_y=True, row = 1, col = 1)\n",
    "    fug.add_trace(go.Scatter(\n",
    "        x = wo4orLower['Allowed_Wait_Cycles'],\n",
    "        y = wo4orLower['Scores'],\n",
    "        name = 'Scores'\n",
    "    ), secondary_y=False, row = 2, col = 1)\n",
    "    fug.update_layout(\n",
    "        title_text= 'Simulation ' + str(s),\n",
    "        annotations = mini_anno,\n",
    "        ) # 'Total Waiting Time and Throughput vs Max Allowed Wait Cycles'\n",
    "    # Set x-axis title\n",
    "    fug.update_xaxes(title_text=\"Nr\")\n",
    "    # Set y-axes titles\n",
    "    fug.update_yaxes(title_text=\"Total waiting time\", secondary_y=False, row = 1, col = 1)\n",
    "    fug.update_yaxes(title_text=\"Throughput\", secondary_y=True, row = 1, col = 1)\n",
    "    fug.update_yaxes(title_text='Score', row = 2, col = 1)\n",
    "    fug.show(renderer='browser')\n",
    "    \n"
   ]
  },
  {
   "cell_type": "code",
   "execution_count": 6,
   "id": "8c9a5460",
   "metadata": {},
   "outputs": [],
   "source": [
    "bestCycles = [6,9,4,4,7,6,7,7,10,4,7,10,5,5,6,10,8,4,9,6,10,10,4,5,7,8,4,4,7,9]\n",
    "macht2 = [6,5,7,6,5,7,9,5,11,7,11,10,11,8,10,5,7,8,7,7,5,10,8,11,6,5,5,8,6,5] #Langere wachttijden wegen zwaarder mee\n",
    "macht3 = [6,5,7,6,5,7,7,11,10,7,11,7,10,8,7,4,7,6,5,7,5,10,8,11,6,5,5,6,6,5] #Langere wachttijden wegen nog zwaarder mee\n",
    "\n",
    "sortedCycles = [4,4,4,4,4,4,4,5,5,5,6,6,6,6,7,7,7,7,7,7,8,8,9,9,9,10,10,10,10,10]\n",
    "\n",
    "fig = px.histogram(macht3, nbins=8, title = \"Histogram of best values for Nr\")\n",
    "fig.update_layout(xaxis_title = 'Nr', yaxis_title = 'Number of simulations', showlegend = False)\n",
    "fig.show(renderer = 'browser')\n"
   ]
  },
  {
   "cell_type": "code",
   "execution_count": 9,
   "id": "52574884",
   "metadata": {},
   "outputs": [],
   "source": [
    "bestValAt4 = [3,4,10,18,23,27,28]\n",
    "bestValAt7 = [5,7,8,11,25,29]\n",
    "bestValAt10 = [9,12,16,21,22]\n",
    "\n",
    "macht3by5 = [2,5,19,21,26,27,30]\n",
    "macht3by10 = [9,13,22]\n",
    "macht3by100 = [8,11,24]\n",
    "\n",
    "\n",
    "dir = 'simronde2'\n",
    "sim = 100\n",
    "ti = []\n",
    "\n",
    "for s in macht3by100:\n",
    "    spefSim = 'sim' + str(s) + \"fr\"+ str(sim)+\".txt\"\n",
    "    for file in os.listdir(dir):\n",
    "        if(spefSim == file):\n",
    "            with open(os.path.join(dir,file), \"r\") as f:\n",
    "                con = f.readlines()\n",
    "            ti.append(list(map(int, con[1].split(' '))))\n",
    "\n",
    "trafficInput = pd.DataFrame(data = ti, columns = ['North Straight', 'North Left', 'East Straight', 'East Left', 'South Straight', 'South Left', 'West Straight', 'West Left'])\n",
    "\n",
    "f = px.line(trafficInput, y = trafficInput.columns,  title='Incoming cars in each lane per cycle')\n",
    "f.update_layout(xaxis_title = 'Simulations with best value for Maxmimum cycles red at 10', yaxis_title = 'Amount of cars')\n",
    "f.show(renderer = 'browser')\n"
   ]
  }
 ],
 "metadata": {
  "kernelspec": {
   "display_name": "Python 3.8.10 64-bit",
   "language": "python",
   "name": "python3"
  },
  "language_info": {
   "codemirror_mode": {
    "name": "ipython",
    "version": 3
   },
   "file_extension": ".py",
   "mimetype": "text/x-python",
   "name": "python",
   "nbconvert_exporter": "python",
   "pygments_lexer": "ipython3",
   "version": "3.8.10"
  },
  "vscode": {
   "interpreter": {
    "hash": "757845feda1dd325122b124853a4a0e9026fa9f27ae6d3e45f38c3c171ecd5e6"
   }
  }
 },
 "nbformat": 4,
 "nbformat_minor": 5
}
