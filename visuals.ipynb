{
 "cells": [
  {
   "cell_type": "code",
   "execution_count": 1,
   "metadata": {},
   "outputs": [],
   "source": [
    "import pandas as pd, plotly.express as px, numpy as np\n",
    "#pip install pandas plotly.express numpy \n",
    "\n",
    "# if not os.path.exists(\"images\"):    os.mkdir(\"images\")\n"
   ]
  },
  {
   "cell_type": "code",
   "execution_count": 2,
   "id": "1a269c66",
   "metadata": {},
   "outputs": [],
   "source": [
    "sim = \"sim1ver4.txt\"\n",
    "\n",
    "with open(\"simulationData/\" + sim, \"r\") as f:\n",
    "    cont = f.readlines()\n",
    "\n",
    "ii = []\n",
    "for i in range(len(cont)):\n",
    "    if('*' in cont[i]):\n",
    "        ii.append(i)\n",
    "\n",
    "cil = []\n",
    "\n",
    "for i in range(7, ii[0] - 1):\n",
    "    cil.append(list(map(int, cont[i].split(' '))))\n",
    "\n",
    "carsInLane = pd.DataFrame(cil, columns = ['North Straight', 'North Left', 'East Straight', 'East Left', 'South Straight', 'South Left', 'West Straight', 'West Left'])\n",
    "\n",
    "freqGone = []\n",
    "\n",
    "for i in range(ii[0] + 2, ii[1]):\n",
    "    freqGone.append(int(cont[i]))\n",
    "\n",
    "waitingTimeCarsGone = pd.DataFrame(freqGone, columns = ['Amount of Cars'])\n",
    "\n",
    "freqLeft = []\n",
    "\n",
    "for i in range(ii[1] + 2, len(cont)):\n",
    "    freqLeft.append(int(cont[i]))\n",
    "\n",
    "waitingTimeCarsLeft = pd.DataFrame(freqLeft, columns = ['Amount of Cars'])\n"
   ]
  },
  {
   "cell_type": "code",
   "execution_count": 3,
   "id": "c99276f5",
   "metadata": {},
   "outputs": [],
   "source": [
    "#line chart waiting cars each cycle\n",
    "fig = px.line(carsInLane, y = ['North Straight', 'North Left', 'East Straight', 'East Left', 'South Straight', 'South Left', 'West Straight', 'West Left'], \n",
    "    title='Waiting cars in each lane for each cycle')\n",
    "\n",
    "fig.update_layout( xaxis_title = 'Cycles', yaxis_title = 'Waiting cars')\n",
    "fig.show(renderer = \"browser\")\n",
    "#fig.write_image(\"images/waitingCars\" + sim + \".svg\")\n",
    "\n"
   ]
  },
  {
   "cell_type": "code",
   "execution_count": 4,
   "id": "fdf4a75c",
   "metadata": {},
   "outputs": [],
   "source": [
    "#histogram of waittime cars that went through\n",
    "hist = px.histogram(waitingTimeCarsGone, x = waitingTimeCarsGone.index, y = 'Amount of Cars', nbins=len(waitingTimeCarsGone),\n",
    "    title = 'Waittime of cars that are through the intersection')\n",
    "\n",
    "hist.update_layout(xaxis_title = 'Waittime of cars, in cycles', yaxis_title = 'Amount of cars')\n",
    "hist.show(renderer = \"browser\")"
   ]
  },
  {
   "cell_type": "code",
   "execution_count": 5,
   "id": "2b43e937",
   "metadata": {},
   "outputs": [],
   "source": [
    "#histogram of waittime cars that are still waiting\n",
    "hist = px.histogram(waitingTimeCarsLeft, x = waitingTimeCarsLeft.index, y = 'Amount of Cars', nbins=len(waitingTimeCarsLeft),\n",
    "    title = 'Waittime of cars that are still waiting in the end')\n",
    "\n",
    "hist.update_layout(xaxis_title = 'Waittime of cars, in cycles', yaxis_title = 'Amount of cars')\n",
    "hist.show(renderer = \"browser\")"
   ]
  }
 ],
 "metadata": {
  "kernelspec": {
   "display_name": "Python 3.9.5 64-bit",
   "language": "python",
   "name": "python3"
  },
  "language_info": {
   "codemirror_mode": {
    "name": "ipython",
    "version": 3
   },
   "file_extension": ".py",
   "mimetype": "text/x-python",
   "name": "python",
   "nbconvert_exporter": "python",
   "pygments_lexer": "ipython3",
   "version": "3.9.5"
  },
  "vscode": {
   "interpreter": {
    "hash": "81794d4967e6c3204c66dcd87b604927b115b27c00565d3d43f05ba2f3a2cb0d"
   }
  }
 },
 "nbformat": 4,
 "nbformat_minor": 5
}
