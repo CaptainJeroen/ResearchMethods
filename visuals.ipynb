{
 "cells": [
  {
   "cell_type": "code",
   "execution_count": 1,
   "metadata": {},
   "outputs": [],
   "source": [
    "import pandas as pd, plotly.express as px, numpy as np, os, plotly.graph_objects as go\n",
    "from plotly.subplots import make_subplots\n",
    "\n",
    "#pip install pandas plotly.express numpy \n",
    "\n",
    "# if not os.path.exists(\"images\"):    os.mkdir(\"images\")\n"
   ]
  },
  {
   "cell_type": "code",
   "execution_count": null,
   "id": "cc82f7ab",
   "metadata": {},
   "outputs": [],
   "source": []
  },
  {
   "cell_type": "code",
   "execution_count": 15,
   "id": "1a269c66",
   "metadata": {},
   "outputs": [],
   "source": [
    "sim = \"sim1fr1.txt\"\n",
    "\n",
    "with open(\"degoedesims/\" + sim, \"r\") as f:\n",
    "    cont = f.readlines()\n",
    "\n",
    "\n",
    "def getIndex(arr):\n",
    "    ii = []\n",
    "    for i in range(len(cont)):\n",
    "        if('*' in cont[i]):\n",
    "            ii.append(i)\n",
    "    return ii\n",
    "\n",
    "ii = getIndex(cont)\n",
    "cil = []\n",
    "\n",
    "for i in range(7, ii[0] - 1):\n",
    "    cil.append(list(map(int, cont[i].split(' '))))\n",
    "\n",
    "carsInLane = pd.DataFrame(cil, columns = ['North Straight', 'North Left', 'East Straight', 'East Left', 'South Straight', 'South Left', 'West Straight', 'West Left'])\n",
    "\n",
    "freqGone = []\n",
    "\n",
    "for i in range(ii[0] + 2, ii[1]):\n",
    "    freqGone.append(int(cont[i]))\n",
    "\n",
    "waitingTimeCarsGone = pd.DataFrame(freqGone, columns = ['Amount of Cars'])\n",
    "\n",
    "freqLeft = []\n",
    "\n",
    "for i in range(ii[1] + 2, len(cont)):\n",
    "    freqLeft.append(int(cont[i]))\n",
    "\n",
    "waitingTimeCarsLeft = pd.DataFrame(freqLeft, columns = ['Amount of Cars'])\n"
   ]
  },
  {
   "cell_type": "code",
   "execution_count": 16,
   "id": "c99276f5",
   "metadata": {},
   "outputs": [],
   "source": [
    "#line chart waiting cars each cycle\n",
    "fig = px.line(carsInLane, y = ['North Straight', 'North Left', 'East Straight', 'East Left', 'South Straight', 'South Left', 'West Straight', 'West Left'], \n",
    "    title='Waiting cars in each lane for each cycle')\n",
    "\n",
    "fig.update_layout( xaxis_title = 'Cycles', yaxis_title = 'Waiting cars')\n",
    "fig.show(renderer = \"browser\")\n",
    "#fig.write_image(\"images/waitingCars\" + sim + \".svg\")\n",
    "\n"
   ]
  },
  {
   "cell_type": "code",
   "execution_count": null,
   "id": "fdf4a75c",
   "metadata": {},
   "outputs": [],
   "source": [
    "#histogram of waittime cars that went through\n",
    "hist = px.histogram(waitingTimeCarsGone, x = waitingTimeCarsGone.index, y = 'Amount of Cars', nbins=len(waitingTimeCarsGone),\n",
    "    title = 'Waittime of cars that are through the intersection')\n",
    "\n",
    "hist.update_layout(xaxis_title = 'Waittime of cars, in cycles', yaxis_title = 'Amount of cars')\n",
    "hist.show(renderer = \"browser\")"
   ]
  },
  {
   "cell_type": "code",
   "execution_count": null,
   "id": "2b43e937",
   "metadata": {},
   "outputs": [],
   "source": [
    "#histogram of waittime cars that are still waiting\n",
    "hist1 = px.histogram(waitingTimeCarsLeft, x = waitingTimeCarsLeft.index, y = 'Amount of Cars', nbins=len(waitingTimeCarsLeft),\n",
    "    title = 'Waittime of cars that are still waiting in the end')\n",
    "\n",
    "hist1.update_layout(xaxis_title = 'Waittime of cars, in cycles', yaxis_title = 'Amount of cars')\n",
    "hist1.show(renderer = \"browser\")\n"
   ]
  },
  {
   "cell_type": "code",
   "execution_count": 9,
   "id": "2a5d3856",
   "metadata": {},
   "outputs": [],
   "source": [
    "#Data of cars that went through intersection\n",
    "\n",
    "dir = 'simronde2'\n",
    "spefSim = 'sim9fr'\n",
    "\n",
    "wtCarsGoneAllFr = dict()\n",
    "\n",
    "for file in os.listdir(dir):\n",
    "    if(spefSim in file):\n",
    "        with open(os.path.join(dir,file), \"r\") as f:\n",
    "            con = f.readlines()\n",
    "        indices = []\n",
    "        for i in range(len(con)):\n",
    "            if('*' in con[i]):\n",
    "                indices.append(i)\n",
    "        l = list(range(indices[0] + 2, indices[1]))\n",
    "        wtCarsGoneAllFr[file[:-4]] = [int(con[u][:-1]) for u in l]\n",
    "\n",
    "keys = list(wtCarsGoneAllFr)\n",
    "lengths = pd.DataFrame({'length' : [], 'simu' : []})\n",
    "\n",
    "for i in range(len(wtCarsGoneAllFr)-1):\n",
    "    lengths.loc[i] = [len(wtCarsGoneAllFr[keys[i]]), keys[i]]\n",
    "\n",
    "maxi = max(lengths['length'])\n",
    "\n",
    "for key in wtCarsGoneAllFr:\n",
    "    wtCarsGoneAllFr[key] = wtCarsGoneAllFr[key] + ([0]*(maxi-len(wtCarsGoneAllFr[key])))\n",
    "\n",
    "wtAllFrDataframe = pd.DataFrame(data = wtCarsGoneAllFr)\n"
   ]
  },
  {
   "cell_type": "code",
   "execution_count": 10,
   "id": "ff15d06b",
   "metadata": {},
   "outputs": [],
   "source": [
    "hist = px.histogram(wtAllFrDataframe, barmode='overlay', x = wtAllFrDataframe.index, y = wtAllFrDataframe.columns,\n",
    "    nbins = len(wtAllFrDataframe), title = 'Waittime of cars that are through the intersection')\n",
    "\n",
    "hist.update_layout(xaxis_title = 'Waittime of cars, in cycles', yaxis_title = 'Amount of cars')\n",
    "hist.show(renderer = \"browser\")"
   ]
  },
  {
   "cell_type": "code",
   "execution_count": 6,
   "id": "54e351ac",
   "metadata": {},
   "outputs": [
    {
     "ename": "NameError",
     "evalue": "name 'wtAllFrDataframe' is not defined",
     "output_type": "error",
     "traceback": [
      "\u001b[1;31m---------------------------------------------------------------------------\u001b[0m",
      "\u001b[1;31mNameError\u001b[0m                                 Traceback (most recent call last)",
      "Cell \u001b[1;32mIn [6], line 1\u001b[0m\n\u001b[1;32m----> 1\u001b[0m hist \u001b[39m=\u001b[39m px\u001b[39m.\u001b[39mhistogram(wtAllFrDataframe, barmode\u001b[39m=\u001b[39m\u001b[39m'\u001b[39m\u001b[39mgroup\u001b[39m\u001b[39m'\u001b[39m, x \u001b[39m=\u001b[39m wtAllFrDataframe\u001b[39m.\u001b[39mindex, y \u001b[39m=\u001b[39m [\u001b[39m'\u001b[39m\u001b[39msim2fr1\u001b[39m\u001b[39m'\u001b[39m, \u001b[39m'\u001b[39m\u001b[39msim2fr10\u001b[39m\u001b[39m'\u001b[39m, \u001b[39m'\u001b[39m\u001b[39msim2fr100\u001b[39m\u001b[39m'\u001b[39m],\n\u001b[0;32m      2\u001b[0m     nbins \u001b[39m=\u001b[39m \u001b[39mlen\u001b[39m(wtAllFrDataframe), title \u001b[39m=\u001b[39m \u001b[39m'\u001b[39m\u001b[39mWaittime of cars that are through the intersection\u001b[39m\u001b[39m'\u001b[39m)\n\u001b[0;32m      4\u001b[0m hist\u001b[39m.\u001b[39mupdate_layout(xaxis_title \u001b[39m=\u001b[39m \u001b[39m'\u001b[39m\u001b[39mWaittime of cars, in cycles\u001b[39m\u001b[39m'\u001b[39m, yaxis_title \u001b[39m=\u001b[39m \u001b[39m'\u001b[39m\u001b[39mAmount of cars\u001b[39m\u001b[39m'\u001b[39m)\n\u001b[0;32m      5\u001b[0m hist\u001b[39m.\u001b[39mshow(renderer \u001b[39m=\u001b[39m \u001b[39m\"\u001b[39m\u001b[39mbrowser\u001b[39m\u001b[39m\"\u001b[39m)\n",
      "\u001b[1;31mNameError\u001b[0m: name 'wtAllFrDataframe' is not defined"
     ]
    }
   ],
   "source": [
    "hist = px.histogram(wtAllFrDataframe, barmode='group', x = wtAllFrDataframe.index, y = ['sim2fr1', 'sim2fr10', 'sim2fr100'],\n",
    "    nbins = len(wtAllFrDataframe), title = 'Waittime of cars that are through the intersection')\n",
    "\n",
    "hist.update_layout(xaxis_title = 'Waittime of cars, in cycles', yaxis_title = 'Amount of cars')\n",
    "hist.show(renderer = \"browser\")"
   ]
  },
  {
   "cell_type": "code",
   "execution_count": 4,
   "id": "d80b1b4d",
   "metadata": {},
   "outputs": [],
   "source": [
    "#Data of all the cars left at end of sim\n",
    "\n",
    "dir = 'simronde2'\n",
    "spefSim = 'sim9fr'\n",
    "\n",
    "AllfrCarsLeft = dict()\n",
    "\n",
    "for file in os.listdir(dir):\n",
    "    if(spefSim in file):\n",
    "        with open(os.path.join(dir,file), \"r\") as f:\n",
    "            con = f.readlines()\n",
    "        indices = []\n",
    "        for i in range(len(con)):\n",
    "            if('*' in con[i]):\n",
    "                indices.append(i)\n",
    "        l = list(range(indices[1] + 2, len(con)))\n",
    "        AllfrCarsLeft[file[:-4]] = [int(con[u][:-1]) for u in l]\n",
    "\n",
    "keys = list(AllfrCarsLeft)\n",
    "lengths = pd.DataFrame({'length' : [], 'simu' : []})\n",
    "\n",
    "for i in range(len(AllfrCarsLeft)-1):\n",
    "    lengths.loc[i] = [len(AllfrCarsLeft[keys[i]]), keys[i]]\n",
    "\n",
    "maxi = max(lengths['length'])\n",
    "\n",
    "for key in AllfrCarsLeft:\n",
    "    AllfrCarsLeft[key] = AllfrCarsLeft[key] + ([0]*(maxi-len(AllfrCarsLeft[key])))\n",
    "\n",
    "AllfrCarsLeft = pd.DataFrame(data = AllfrCarsLeft)\n"
   ]
  },
  {
   "cell_type": "code",
   "execution_count": 5,
   "id": "c19bcc7f",
   "metadata": {},
   "outputs": [
    {
     "ename": "NameError",
     "evalue": "name 'wtAllFrDataframe' is not defined",
     "output_type": "error",
     "traceback": [
      "\u001b[1;31m---------------------------------------------------------------------------\u001b[0m",
      "\u001b[1;31mNameError\u001b[0m                                 Traceback (most recent call last)",
      "Cell \u001b[1;32mIn [5], line 1\u001b[0m\n\u001b[1;32m----> 1\u001b[0m hist \u001b[39m=\u001b[39m px\u001b[39m.\u001b[39mhistogram(AllfrCarsLeft, barmode\u001b[39m=\u001b[39m\u001b[39m'\u001b[39m\u001b[39moverlay\u001b[39m\u001b[39m'\u001b[39m, x \u001b[39m=\u001b[39m wtAllFrDataframe\u001b[39m.\u001b[39mindex, y \u001b[39m=\u001b[39m wtAllFrDataframe\u001b[39m.\u001b[39mcolumns,\n\u001b[0;32m      2\u001b[0m     nbins \u001b[39m=\u001b[39m \u001b[39mlen\u001b[39m(wtAllFrDataframe), title \u001b[39m=\u001b[39m \u001b[39m'\u001b[39m\u001b[39mWaittime of cars that are still in the intersection\u001b[39m\u001b[39m'\u001b[39m)\n\u001b[0;32m      4\u001b[0m hist\u001b[39m.\u001b[39mupdate_layout(xaxis_title \u001b[39m=\u001b[39m \u001b[39m'\u001b[39m\u001b[39mWaittime of cars, in cycles\u001b[39m\u001b[39m'\u001b[39m, yaxis_title \u001b[39m=\u001b[39m \u001b[39m'\u001b[39m\u001b[39mAmount of cars\u001b[39m\u001b[39m'\u001b[39m)\n\u001b[0;32m      5\u001b[0m hist\u001b[39m.\u001b[39mshow(renderer \u001b[39m=\u001b[39m \u001b[39m\"\u001b[39m\u001b[39mbrowser\u001b[39m\u001b[39m\"\u001b[39m)\n",
      "\u001b[1;31mNameError\u001b[0m: name 'wtAllFrDataframe' is not defined"
     ]
    }
   ],
   "source": [
    "hist = px.histogram(AllfrCarsLeft, barmode='overlay', x = wtAllFrDataframe.index, y = wtAllFrDataframe.columns,\n",
    "    nbins = len(wtAllFrDataframe), title = 'Waittime of cars that are still in the intersection')\n",
    "\n",
    "hist.update_layout(xaxis_title = 'Waittime of cars, in cycles', yaxis_title = 'Amount of cars')\n",
    "hist.show(renderer = \"browser\")"
   ]
  },
  {
   "cell_type": "code",
   "execution_count": 7,
   "id": "fad4f77e",
   "metadata": {},
   "outputs": [
    {
     "name": "stdout",
     "output_type": "stream",
     "text": [
      "    Allowed_Wait_Cycles       sim1      sim2      sim3       sim4\n",
      "0                     1  27247.350  26343.02  33375.37  32296.700\n",
      "1                     2  25388.680  26337.02  33375.37  29964.710\n",
      "2                     3  25388.680  25404.02  32879.70  29974.040\n",
      "3                     4  15192.000  23788.33  31859.33  27024.010\n",
      "4                     5   7163.334  22388.01  31445.34  18978.670\n",
      "5                     6   5880.003  19913.99  30428.68   9634.696\n",
      "6                     7   5333.333  18192.66  30015.35   5648.671\n",
      "7                     8   4809.333  16391.66  29245.34   5518.670\n",
      "8                     9   4745.332  15002.67  28824.01   4882.335\n",
      "9                    10   4738.665  13986.32  28574.00   4776.333\n",
      "10                   11   4731.332  10629.00  25626.00   4658.665\n"
     ]
    }
   ],
   "source": [
    "d = {'Allowed_Wait_Cycles': [1,2,3,4,5,6,7,8,9,10,11], \n",
    "'sim1': [27247.35, 25388.68, 25388.68, 15192, 7163.334, 5880.003, 5333.333, 4809.333, 4745.332 ,4738.665, 4731.332],\n",
    "'sim2': [26343.02, 26337.02, 25404.02, 23788.33, 22388.01, 19913.99, 18192.66, 16391.66, 15002.67, 13986.32, 10629],\n",
    "'sim3': [33375.37, 33375.37, 32879.7, 31859.33, 31445.34, 30428.68, 30015.35, 29245.34, 28824.01, 28574, 25626],\n",
    "'sim4': [32296.7, 29964.71, 29974.04, 27024.01, 18978.67, 9634.696, 5648.671, 5518.67, 4882.335, 4776.333, 4658.665]}\n",
    "waitingTime = pd.DataFrame(data = d)\n",
    "print(waitingTime)"
   ]
  },
  {
   "cell_type": "code",
   "execution_count": 5,
   "id": "2dfd462a",
   "metadata": {},
   "outputs": [
    {
     "name": "stdout",
     "output_type": "stream",
     "text": [
      "    Allowed_Wait_Cycles  sim1  sim2  sim3  sim4\n",
      "0                     1  1750  1753  1626  1362\n",
      "1                     2  1744  1751  1626  1356\n",
      "2                     3  1744  1748  1627  1372\n",
      "3                     4  2186  1897  1702  1808\n",
      "4                     5  2382  2012  1756  2112\n",
      "5                     6  2382  2078  1790  2292\n",
      "6                     7  2394  2130  1818  2382\n",
      "7                     8  2394  2167  1836  2364\n",
      "8                     9  2394  2192  1852  2394\n",
      "9                    10  2394  2223  1866  2385\n",
      "10                   11  2394  2287  1902  2389\n"
     ]
    }
   ],
   "source": [
    "e = {'Allowed_Wait_Cycles': [1,2,3,4,5,6,7,8,9,10,11], \n",
    "'sim1': [1750,1744,1744,2186,2382,2382,2394,2394,2394,2394,2394],\n",
    "'sim2': [1753,1751,1748,1897,2012,2078,2130,2167,2192,2223,2287],\n",
    "'sim3': [1626,1626,1627,1702,1756,1790,1818,1836,1852,1866,1902],\n",
    "'sim4': [1362,1356,1372,1808,2112,2292,2382,2364,2394,2385,2389]}\n",
    "throughput = pd.DataFrame(data = e)\n",
    "print(throughput)"
   ]
  },
  {
   "cell_type": "code",
   "execution_count": 9,
   "id": "0d4ff8d7",
   "metadata": {},
   "outputs": [],
   "source": [
    "figW = px.line(waitingTime, x = 'Allowed_Wait_Cycles', y = ['sim1', 'sim2', 'sim3', 'sim4'], \n",
    "    title='Total Waiting Time vs Max Allowed Wait Cycles')\n",
    "\n",
    "figW.update_layout( yaxis_title = 'Total Waiting Time', xaxis_title = 'Max Allowed Wait Cycles On Red')\n",
    "figW.show(renderer = \"browser\")\n",
    "\n",
    "figT = px.line(throughput, x = 'Allowed_Wait_Cycles', y = ['sim1', 'sim2', 'sim3', 'sim4'], \n",
    "    title='Throughput vs Max Allowed Wait Cycles')\n",
    "\n",
    "figT.update_layout( yaxis_title = 'Throughput', xaxis_title = 'Max Allowed Wait Cycles On Red')\n",
    "figT.show(renderer = \"browser\")"
   ]
  },
  {
   "cell_type": "code",
   "execution_count": 14,
   "id": "1a834bce",
   "metadata": {},
   "outputs": [
    {
     "name": "stdout",
     "output_type": "stream",
     "text": [
      "sim1fr 1 304\n",
      "sim1fr 1 44\n",
      "sim1fr 1 36\n",
      "sim1fr 1 305\n",
      "sim1fr 1 307\n",
      "sim1fr 1 54\n",
      "sim1fr 1 42\n",
      "sim1fr 1 41\n",
      "sim1fr 1 38\n",
      "sim1fr 1 37\n",
      "sim1fr 1 40\n",
      "sim2fr 2 326\n",
      "sim2fr 2 147\n",
      "sim2fr 2 142\n",
      "sim2fr 2 329\n",
      "sim2fr 2 334\n",
      "sim2fr 2 236\n",
      "sim2fr 2 209\n",
      "sim2fr 2 171\n",
      "sim2fr 2 152\n",
      "sim2fr 2 148\n",
      "sim2fr 2 158\n",
      "sim3fr 3 129\n",
      "sim3fr 3 43\n",
      "sim3fr 3 43\n",
      "sim3fr 3 131\n",
      "sim3fr 3 132\n",
      "sim3fr 3 51\n",
      "sim3fr 3 43\n",
      "sim3fr 3 43\n",
      "sim3fr 3 43\n",
      "sim3fr 3 43\n",
      "sim3fr 3 43\n"
     ]
    },
    {
     "ename": "KeyboardInterrupt",
     "evalue": "",
     "output_type": "error",
     "traceback": [
      "\u001b[1;31m---------------------------------------------------------------------------\u001b[0m",
      "\u001b[1;31mKeyboardInterrupt\u001b[0m                         Traceback (most recent call last)",
      "Cell \u001b[1;32mIn [14], line 50\u001b[0m\n\u001b[0;32m     48\u001b[0m fug\u001b[39m.\u001b[39mupdate_yaxes(title_text\u001b[39m=\u001b[39m\u001b[39m\"\u001b[39m\u001b[39mTotal waiting time\u001b[39m\u001b[39m\"\u001b[39m, secondary_y\u001b[39m=\u001b[39m\u001b[39mFalse\u001b[39;00m)\n\u001b[0;32m     49\u001b[0m fug\u001b[39m.\u001b[39mupdate_yaxes(title_text\u001b[39m=\u001b[39m\u001b[39m\"\u001b[39m\u001b[39mThroughput\u001b[39m\u001b[39m\"\u001b[39m, secondary_y\u001b[39m=\u001b[39m\u001b[39mTrue\u001b[39;00m)\n\u001b[1;32m---> 50\u001b[0m fug\u001b[39m.\u001b[39;49mshow(renderer\u001b[39m=\u001b[39;49m\u001b[39m'\u001b[39;49m\u001b[39mbrowser\u001b[39;49m\u001b[39m'\u001b[39;49m)\n",
      "File \u001b[1;32mc:\\Users\\Jeroen van Dam\\AppData\\Local\\Programs\\Python\\Python38\\lib\\site-packages\\plotly\\basedatatypes.py:3398\u001b[0m, in \u001b[0;36mBaseFigure.show\u001b[1;34m(self, *args, **kwargs)\u001b[0m\n\u001b[0;32m   3365\u001b[0m \u001b[39m\"\"\"\u001b[39;00m\n\u001b[0;32m   3366\u001b[0m \u001b[39mShow a figure using either the default renderer(s) or the renderer(s)\u001b[39;00m\n\u001b[0;32m   3367\u001b[0m \u001b[39mspecified by the renderer argument\u001b[39;00m\n\u001b[1;32m   (...)\u001b[0m\n\u001b[0;32m   3394\u001b[0m \u001b[39mNone\u001b[39;00m\n\u001b[0;32m   3395\u001b[0m \u001b[39m\"\"\"\u001b[39;00m\n\u001b[0;32m   3396\u001b[0m \u001b[39mimport\u001b[39;00m \u001b[39mplotly\u001b[39;00m\u001b[39m.\u001b[39;00m\u001b[39mio\u001b[39;00m \u001b[39mas\u001b[39;00m \u001b[39mpio\u001b[39;00m\n\u001b[1;32m-> 3398\u001b[0m \u001b[39mreturn\u001b[39;00m pio\u001b[39m.\u001b[39;49mshow(\u001b[39mself\u001b[39;49m, \u001b[39m*\u001b[39;49margs, \u001b[39m*\u001b[39;49m\u001b[39m*\u001b[39;49mkwargs)\n",
      "File \u001b[1;32mc:\\Users\\Jeroen van Dam\\AppData\\Local\\Programs\\Python\\Python38\\lib\\site-packages\\plotly\\io\\_renderers.py:403\u001b[0m, in \u001b[0;36mshow\u001b[1;34m(fig, renderer, validate, **kwargs)\u001b[0m\n\u001b[0;32m    400\u001b[0m     ipython_display\u001b[39m.\u001b[39mdisplay(bundle, raw\u001b[39m=\u001b[39m\u001b[39mTrue\u001b[39;00m)\n\u001b[0;32m    402\u001b[0m \u001b[39m# external renderers\u001b[39;00m\n\u001b[1;32m--> 403\u001b[0m renderers\u001b[39m.\u001b[39;49m_perform_external_rendering(fig_dict, renderers_string\u001b[39m=\u001b[39;49mrenderer, \u001b[39m*\u001b[39;49m\u001b[39m*\u001b[39;49mkwargs)\n",
      "File \u001b[1;32mc:\\Users\\Jeroen van Dam\\AppData\\Local\\Programs\\Python\\Python38\\lib\\site-packages\\plotly\\io\\_renderers.py:340\u001b[0m, in \u001b[0;36mRenderersConfig._perform_external_rendering\u001b[1;34m(self, fig_dict, renderers_string, **kwargs)\u001b[0m\n\u001b[0;32m    337\u001b[0m     \u001b[39mif\u001b[39;00m \u001b[39mhasattr\u001b[39m(renderer, k):\n\u001b[0;32m    338\u001b[0m         \u001b[39msetattr\u001b[39m(renderer, k, v)\n\u001b[1;32m--> 340\u001b[0m renderer\u001b[39m.\u001b[39;49mrender(fig_dict)\n",
      "File \u001b[1;32mc:\\Users\\Jeroen van Dam\\AppData\\Local\\Programs\\Python\\Python38\\lib\\site-packages\\plotly\\io\\_base_renderers.py:759\u001b[0m, in \u001b[0;36mBrowserRenderer.render\u001b[1;34m(self, fig_dict)\u001b[0m\n\u001b[0;32m    744\u001b[0m \u001b[39mfrom\u001b[39;00m \u001b[39mplotly\u001b[39;00m\u001b[39m.\u001b[39;00m\u001b[39mio\u001b[39;00m \u001b[39mimport\u001b[39;00m to_html\n\u001b[0;32m    746\u001b[0m html \u001b[39m=\u001b[39m to_html(\n\u001b[0;32m    747\u001b[0m     fig_dict,\n\u001b[0;32m    748\u001b[0m     config\u001b[39m=\u001b[39m\u001b[39mself\u001b[39m\u001b[39m.\u001b[39mconfig,\n\u001b[1;32m   (...)\u001b[0m\n\u001b[0;32m    757\u001b[0m     validate\u001b[39m=\u001b[39m\u001b[39mFalse\u001b[39;00m,\n\u001b[0;32m    758\u001b[0m )\n\u001b[1;32m--> 759\u001b[0m open_html_in_browser(html, \u001b[39mself\u001b[39;49m\u001b[39m.\u001b[39;49musing, \u001b[39mself\u001b[39;49m\u001b[39m.\u001b[39;49mnew, \u001b[39mself\u001b[39;49m\u001b[39m.\u001b[39;49mautoraise)\n",
      "File \u001b[1;32mc:\\Users\\Jeroen van Dam\\AppData\\Local\\Programs\\Python\\Python38\\lib\\site-packages\\plotly\\io\\_base_renderers.py:704\u001b[0m, in \u001b[0;36mopen_html_in_browser\u001b[1;34m(html, using, new, autoraise)\u001b[0m\n\u001b[0;32m    701\u001b[0m         \u001b[39mpass\u001b[39;00m\n\u001b[0;32m    703\u001b[0m server \u001b[39m=\u001b[39m HTTPServer((\u001b[39m\"\u001b[39m\u001b[39m127.0.0.1\u001b[39m\u001b[39m\"\u001b[39m, \u001b[39m0\u001b[39m), OneShotRequestHandler)\n\u001b[1;32m--> 704\u001b[0m browser\u001b[39m.\u001b[39;49mopen(\n\u001b[0;32m    705\u001b[0m     \u001b[39m\"\u001b[39;49m\u001b[39mhttp://127.0.0.1:\u001b[39;49m\u001b[39m%s\u001b[39;49;00m\u001b[39m\"\u001b[39;49m \u001b[39m%\u001b[39;49m server\u001b[39m.\u001b[39;49mserver_port, new\u001b[39m=\u001b[39;49mnew, autoraise\u001b[39m=\u001b[39;49mautoraise\n\u001b[0;32m    706\u001b[0m )\n\u001b[0;32m    708\u001b[0m server\u001b[39m.\u001b[39mhandle_request()\n",
      "File \u001b[1;32mc:\\Users\\Jeroen van Dam\\AppData\\Local\\Programs\\Python\\Python38\\lib\\webbrowser.py:603\u001b[0m, in \u001b[0;36mWindowsDefault.open\u001b[1;34m(self, url, new, autoraise)\u001b[0m\n\u001b[0;32m    601\u001b[0m sys\u001b[39m.\u001b[39maudit(\u001b[39m\"\u001b[39m\u001b[39mwebbrowser.open\u001b[39m\u001b[39m\"\u001b[39m, url)\n\u001b[0;32m    602\u001b[0m \u001b[39mtry\u001b[39;00m:\n\u001b[1;32m--> 603\u001b[0m     os\u001b[39m.\u001b[39;49mstartfile(url)\n\u001b[0;32m    604\u001b[0m \u001b[39mexcept\u001b[39;00m \u001b[39mOSError\u001b[39;00m:\n\u001b[0;32m    605\u001b[0m     \u001b[39m# [Error 22] No application is associated with the specified\u001b[39;00m\n\u001b[0;32m    606\u001b[0m     \u001b[39m# file for this operation: '<URL>'\u001b[39;00m\n\u001b[0;32m    607\u001b[0m     \u001b[39mreturn\u001b[39;00m \u001b[39mFalse\u001b[39;00m\n",
      "\u001b[1;31mKeyboardInterrupt\u001b[0m: "
     ]
    }
   ],
   "source": [
    "#Data of all the cars left at end of sim\n",
    "\n",
    "sims = list(range(1,31))\n",
    "dir = 'simronde2'\n",
    "\n",
    "for s in sims:\n",
    "    waittimes = [0] * 101\n",
    "    throughputs = [0] * 101\n",
    "    spefSim = 'sim' + str(s) + \"fr\"\n",
    "    for file in os.listdir(dir):\n",
    "        if(spefSim in file):\n",
    "            with open(os.path.join(dir,file), \"r\") as f:\n",
    "                con = f.readlines()\n",
    "            \n",
    "            simu = file.replace(\"sim\" + str(s) + \"fr\", \"\")[:-4]\n",
    "            waittimes[int(simu)] = float(con[5])\n",
    "            throughputs[int(simu)] = float(con[4])\n",
    "\n",
    "    waittimes = list(filter(lambda i: i > 0, waittimes))\n",
    "    throughputs = filter(lambda i: i > 0, throughputs)\n",
    "    waitAndThrough = pd.DataFrame({'Allowed_Wait_Cycles': [1,2,3,4,5,6,7,8,9,10,11], 'Waiting_time': waittimes, 'Throughput': throughputs})\n",
    "    \n",
    "    fug = make_subplots(specs=[[{\"secondary_y\": True}]])\n",
    "    fug.add_trace(go.Scatter(\n",
    "        x = waitAndThrough['Allowed_Wait_Cycles'],\n",
    "        y = waitAndThrough['Waiting_time'],\n",
    "        name = 'Waiting time'\n",
    "    ), secondary_y=False)\n",
    "    fug.add_trace(go.Scatter(\n",
    "        x = waitAndThrough['Allowed_Wait_Cycles'],\n",
    "        y = waitAndThrough['Throughput'],\n",
    "        name = 'Throughput'\n",
    "    ), secondary_y=True)\n",
    "    fug.update_layout(\n",
    "        title_text=spefSim) # 'Total Waiting Time and Throughput vs Max Allowed Wait Cycles'\n",
    "    # Set x-axis title\n",
    "    fug.update_xaxes(title_text=\"Allowed wait cycles\")\n",
    "\n",
    "    # Set y-axes titles\n",
    "    fug.update_yaxes(title_text=\"Total waiting time\", secondary_y=False)\n",
    "    fug.update_yaxes(title_text=\"Throughput\", secondary_y=True)\n",
    "    fug.show(renderer='browser')\n",
    "    \n"
   ]
  },
  {
   "cell_type": "code",
   "execution_count": 21,
   "id": "8c9a5460",
   "metadata": {},
   "outputs": [
    {
     "name": "stdout",
     "output_type": "stream",
     "text": [
      "[0, 0, 0, 0, 1, 0, 0, 0, 0, 0, 0, 0]\n"
     ]
    }
   ],
   "source": [
    "h = [0]*12\n",
    "h[int('4')] = 1\n",
    "print(h)"
   ]
  }
 ],
 "metadata": {
  "kernelspec": {
   "display_name": "Python 3.9.5 64-bit",
   "language": "python",
   "name": "python3"
  },
  "language_info": {
   "codemirror_mode": {
    "name": "ipython",
    "version": 3
   },
   "file_extension": ".py",
   "mimetype": "text/x-python",
   "name": "python",
   "nbconvert_exporter": "python",
   "pygments_lexer": "ipython3",
   "version": "3.9.5"
  },
  "vscode": {
   "interpreter": {
    "hash": "81794d4967e6c3204c66dcd87b604927b115b27c00565d3d43f05ba2f3a2cb0d"
   }
  }
 },
 "nbformat": 4,
 "nbformat_minor": 5
}
