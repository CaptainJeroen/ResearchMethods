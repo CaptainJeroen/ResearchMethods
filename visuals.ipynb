{
 "cells": [
  {
   "cell_type": "code",
   "execution_count": 2,
   "metadata": {},
   "outputs": [],
   "source": [
    "import pandas as pd, plotly.express as px, numpy as np\n",
    "#pip install pandas plotly.express numpy \n",
    "\n",
    "# if not os.path.exists(\"images\"):    os.mkdir(\"images\")\n"
   ]
  },
  {
   "cell_type": "code",
   "execution_count": 4,
   "id": "1a269c66",
   "metadata": {},
   "outputs": [],
   "source": [
    "sim = \"sim6fr1.txt\"\n",
    "\n",
    "with open(\"degoedesims/\" + sim, \"r\") as f:\n",
    "    cont = f.readlines()\n",
    "\n",
    "ii = []\n",
    "for i in range(len(cont)):\n",
    "    if('*' in cont[i]):\n",
    "        ii.append(i)\n",
    "\n",
    "cil = []\n",
    "\n",
    "for i in range(7, ii[0] - 1):\n",
    "    cil.append(list(map(int, cont[i].split(' '))))\n",
    "\n",
    "carsInLane = pd.DataFrame(cil, columns = ['North Straight', 'North Left', 'East Straight', 'East Left', 'South Straight', 'South Left', 'West Straight', 'West Left'])\n",
    "\n",
    "freqGone = []\n",
    "\n",
    "for i in range(ii[0] + 2, ii[1]):\n",
    "    freqGone.append(int(cont[i]))\n",
    "\n",
    "waitingTimeCarsGone = pd.DataFrame(freqGone, columns = ['Amount of Cars'])\n",
    "\n",
    "freqLeft = []\n",
    "\n",
    "for i in range(ii[1] + 2, len(cont)):\n",
    "    freqLeft.append(int(cont[i]))\n",
    "\n",
    "waitingTimeCarsLeft = pd.DataFrame(freqLeft, columns = ['Amount of Cars'])\n"
   ]
  },
  {
   "cell_type": "code",
   "execution_count": 15,
   "id": "2a5d3856",
   "metadata": {},
   "outputs": [
    {
     "name": "stdout",
     "output_type": "stream",
     "text": [
      "Amount of Cars    2010\n",
      "dtype: int64\n"
     ]
    }
   ],
   "source": [
    "print(waitingTimeCarsGone.sum())"
   ]
  },
  {
   "cell_type": "code",
   "execution_count": 13,
   "id": "fad4f77e",
   "metadata": {},
   "outputs": [
    {
     "name": "stdout",
     "output_type": "stream",
     "text": [
      "    Allowed_Wait_Cycles       sim9     sim10     sim11      sim12\n",
      "0                     1  27247.350  26343.02  33375.37  32296.700\n",
      "1                     2  25388.680  26337.02  33375.37  29964.710\n",
      "2                     3  25388.680  25404.02  32879.70  29974.040\n",
      "3                     4  15192.000  23788.33  31859.33  27024.010\n",
      "4                     5   7163.334  22388.01  31445.34  18978.670\n",
      "5                     6   5880.003  19913.99  30428.68   9634.696\n",
      "6                     7   5333.333  18192.66  30015.35   5648.671\n",
      "7                     8   4809.333  16391.66  29245.34   5518.670\n",
      "8                     9   4745.332  15002.67  28824.01   4882.335\n",
      "9                    10   4738.665  13986.32  28574.00   4776.333\n",
      "10                   11   4731.332  10629.00  25626.00   4658.665\n"
     ]
    }
   ],
   "source": [
    "d = {'Allowed_Wait_Cycles': [1,2,3,4,5,6,7,8,9,10,11], \n",
    "'sim9': [27247.35, 25388.68, 25388.68, 15192, 7163.334, 5880.003, 5333.333, 4809.333, 4745.332 ,4738.665, 4731.332],\n",
    "'sim10': [26343.02, 26337.02, 25404.02, 23788.33, 22388.01, 19913.99, 18192.66, 16391.66, 15002.67, 13986.32, 10629],\n",
    "'sim11': [33375.37, 33375.37, 32879.7, 31859.33, 31445.34, 30428.68, 30015.35, 29245.34, 28824.01, 28574, 25626],\n",
    "'sim12': [32296.7, 29964.71, 29974.04, 27024.01, 18978.67, 9634.696, 5648.671, 5518.67, 4882.335, 4776.333, 4658.665]}\n",
    "waitingTime = pd.DataFrame(data = d)\n",
    "print(waitingTime)"
   ]
  },
  {
   "cell_type": "code",
   "execution_count": 14,
   "id": "0d4ff8d7",
   "metadata": {},
   "outputs": [],
   "source": [
    "figW = px.line(waitingTime, x = 'Allowed_Wait_Cycles', y = ['sim9', 'sim10', 'sim11', 'sim12'], \n",
    "    title='Total Waiting Time vs Max Allowed Wait Cycles')\n",
    "\n",
    "figW.update_layout( yaxis_title = 'Total Waiting Time', xaxis_title = 'Max Allowed Wait Cycles')\n",
    "figW.show(renderer = \"browser\")"
   ]
  },
  {
   "cell_type": "code",
   "execution_count": 3,
   "id": "c99276f5",
   "metadata": {},
   "outputs": [],
   "source": [
    "#line chart waiting cars each cycle\n",
    "fig = px.line(carsInLane, y = ['North Straight', 'North Left', 'East Straight', 'East Left', 'South Straight', 'South Left', 'West Straight', 'West Left'], \n",
    "    title='Waiting cars in each lane for each cycle')\n",
    "\n",
    "fig.update_layout( xaxis_title = 'Cycles', yaxis_title = 'Waiting cars')\n",
    "fig.show(renderer = \"browser\")\n",
    "#fig.write_image(\"images/waitingCars\" + sim + \".svg\")\n",
    "\n"
   ]
  },
  {
   "cell_type": "code",
   "execution_count": 4,
   "id": "fdf4a75c",
   "metadata": {},
   "outputs": [],
   "source": [
    "#histogram of waittime cars that went through\n",
    "hist = px.histogram(waitingTimeCarsGone, x = waitingTimeCarsGone.index, y = 'Amount of Cars', nbins=len(waitingTimeCarsGone),\n",
    "    title = 'Waittime of cars that are through the intersection')\n",
    "\n",
    "hist.update_layout(xaxis_title = 'Waittime of cars, in cycles', yaxis_title = 'Amount of cars')\n",
    "hist.show(renderer = \"browser\")"
   ]
  },
  {
   "cell_type": "code",
   "execution_count": 5,
   "id": "2b43e937",
   "metadata": {},
   "outputs": [],
   "source": [
    "#histogram of waittime cars that are still waiting\n",
    "hist1 = px.histogram(waitingTimeCarsLeft, x = waitingTimeCarsLeft.index, y = 'Amount of Cars', nbins=len(waitingTimeCarsLeft),\n",
    "    title = 'Waittime of cars that are still waiting in the end')\n",
    "\n",
    "hist1.update_layout(xaxis_title = 'Waittime of cars, in cycles', yaxis_title = 'Amount of cars')\n",
    "hist1.show(renderer = \"browser\")\n"
   ]
  }
 ],
 "metadata": {
  "kernelspec": {
   "display_name": "Python 3.8.10 64-bit",
   "language": "python",
   "name": "python3"
  },
  "language_info": {
   "codemirror_mode": {
    "name": "ipython",
    "version": 3
   },
   "file_extension": ".py",
   "mimetype": "text/x-python",
   "name": "python",
   "nbconvert_exporter": "python",
   "pygments_lexer": "ipython3",
   "version": "3.8.10"
  },
  "vscode": {
   "interpreter": {
    "hash": "757845feda1dd325122b124853a4a0e9026fa9f27ae6d3e45f38c3c171ecd5e6"
   }
  }
 },
 "nbformat": 4,
 "nbformat_minor": 5
}
